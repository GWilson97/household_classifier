{
 "cells": [
  {
   "cell_type": "code",
   "execution_count": 7,
   "id": "60cd9d50-0778-4353-95d8-b5bfff6d8947",
   "metadata": {},
   "outputs": [],
   "source": [
    "%matplotlib inline\n",
    "from pycocotools.coco import COCO\n",
    "\n",
    "import numpy as np\n",
    "import pandas as pd\n",
    "import skimage.io as io\n",
    "import matplotlib.pyplot as plt\n",
    "import pylab\n",
    "\n",
    "import cv2\n",
    "import skimage\n",
    "from skimage.feature import hog\n",
    "\n",
    "from sklearn.model_selection import train_test_split\n",
    "\n",
    "import os\n",
    "import gzip\n",
    "import pickle\n",
    "from tqdm.auto import tqdm\n",
    "from ast import literal_eval\n",
    "from sklearn.neural_network import MLPClassifier\n",
    "from sklearn.metrics import classification_report\n",
    "\n",
    "\n",
    "\n",
    "pylab.rcParams['figure.figsize'] = (8.0, 10.0)"
   ]
  },
  {
   "cell_type": "code",
   "execution_count": 3,
   "id": "8042ec7a-7d0b-45fc-b24b-b6d1957070e9",
   "metadata": {},
   "outputs": [],
   "source": [
    "images = np.load(\"image.npy\")\n",
    "image_labels = np.load(\"image_category.npy\")"
   ]
  },
  {
   "cell_type": "code",
   "execution_count": 42,
   "id": "29f68ec6-0891-4f65-bcbc-baf546114f98",
   "metadata": {},
   "outputs": [],
   "source": [
    "unique_classes = np.unique(image_labels)"
   ]
  },
  {
   "cell_type": "code",
   "execution_count": 43,
   "id": "5b6225a4-eaa0-4385-abba-36f8ca3023f0",
   "metadata": {},
   "outputs": [
    {
     "data": {
      "text/plain": [
       "array([ 1, 17, 18, 27, 64])"
      ]
     },
     "execution_count": 43,
     "metadata": {},
     "output_type": "execute_result"
    }
   ],
   "source": [
    "unique_classes"
   ]
  },
  {
   "cell_type": "code",
   "execution_count": 20,
   "id": "f11239b9-46f2-4d85-9c2d-301097900756",
   "metadata": {},
   "outputs": [
    {
     "data": {
      "text/plain": [
       "array([[0.56171918, 0.55833954, 0.55830842, ..., 0.07665328, 0.05550884,\n",
       "        0.05661618],\n",
       "       [0.37622774, 0.38109137, 0.38591339, ..., 0.11753168, 0.13085684,\n",
       "        0.11710779],\n",
       "       [0.29257001, 0.29257124, 0.29258915, ..., 0.58764936, 0.59258918,\n",
       "        0.59292791],\n",
       "       ...,\n",
       "       [0.02351958, 0.02216243, 0.23319085, ..., 0.22452125, 0.29067088,\n",
       "        0.30240613],\n",
       "       [0.77271525, 0.77660329, 0.77689069, ..., 0.38955789, 0.37400195,\n",
       "        0.342445  ],\n",
       "       [0.82364035, 0.82779604, 0.82726962, ..., 0.41491215, 0.35828352,\n",
       "        0.42982845]])"
      ]
     },
     "execution_count": 20,
     "metadata": {},
     "output_type": "execute_result"
    }
   ],
   "source": [
    "np.array([i.flatten() for i in images])"
   ]
  },
  {
   "cell_type": "code",
   "execution_count": 10,
   "id": "aacaabf1-723c-401a-b1d2-d0844ca1deec",
   "metadata": {},
   "outputs": [],
   "source": [
    "def extract_HOG_features(data):\n",
    "    num_samples = data.shape[0]\n",
    "    hog_features = []\n",
    "    for i in tqdm(range(num_samples)):\n",
    "        img = data[i]\n",
    "        feature = hog(img)\n",
    "        hog_features.append(feature)\n",
    "    return np.array(hog_features)\n",
    "\n",
    "def model_train(\n",
    "    images,\n",
    "    image_labels,\n",
    "    hidden_layer_sizes=(256, 128, 5),\n",
    "    verbose = False\n",
    "):\n",
    "    \n",
    "    canny_feats = np.zeros(images.shape)\n",
    "    for im in range(0,images.shape[0]):\n",
    "        edges = cv2.Canny(np.uint8(images[im]*255),100,200)\n",
    "        canny_feats[im,:,:] = edges\n",
    "    \n",
    "    train_features, test_features, train_labels, test_labels = train_test_split(canny_feats, image_labels)\n",
    "    \n",
    "    train_hog_features = extract_HOG_features(train_features)\n",
    "    test_hog_features = extract_HOG_features(test_features)\n",
    "    \n",
    "    train_features = np.array([i.flatten() for i in train_features])\n",
    "    test_features = np.array([i.flatten() for i in test_features])\n",
    "    \n",
    "    clf_canny = MLPClassifier(solver='lbfgs', \n",
    "                    activation='relu', \n",
    "                    alpha=50, \n",
    "                    hidden_layer_sizes=hidden_layer_sizes, \n",
    "                    random_state=1, \n",
    "                    max_iter=500,\n",
    "                    early_stopping=True,\n",
    "                    verbose=verbose)\n",
    "    \n",
    "    clf_canny.fit(train_features, train_labels)\n",
    "    \n",
    "    clf_hog = MLPClassifier(solver='lbfgs', \n",
    "                    activation='relu', \n",
    "                    alpha=50, \n",
    "                    hidden_layer_sizes=hidden_layer_sizes, \n",
    "                    random_state=1, \n",
    "                    max_iter=500,\n",
    "                    early_stopping=True,\n",
    "                    verbose=verbose)\n",
    "    \n",
    "    clf_hog.fit(train_hog_features, train_labels)\n",
    "    \n",
    "    pred = clf.predict_proba(train_features)\n",
    "    train_accuracy = np.mean(pred == train_labels)\n",
    "\n",
    "    pred = clf.predict(test_features)\n",
    "    proba = clf.predict_proba(test_features)\n",
    "    test_accuracy = np.mean(pred == test_labels)\n",
    "    \n",
    "    print(\"Training accuracy: {}\".format(train_accuracy))\n",
    "    print(\"Testing accuracy: {}\".format(test_accuracy))\n",
    "    print(classification_report(test_labels, pred))\n",
    "    \n",
    "    return clf"
   ]
  },
  {
   "cell_type": "code",
   "execution_count": 11,
   "id": "118e91f2-128a-4ae7-8905-4545c2490b29",
   "metadata": {
    "tags": []
   },
   "outputs": [
    {
     "data": {
      "application/vnd.jupyter.widget-view+json": {
       "model_id": "13f7293900674ed08bc2f4c6f4db30d0",
       "version_major": 2,
       "version_minor": 0
      },
      "text/plain": [
       "  0%|          | 0/2224 [00:00<?, ?it/s]"
      ]
     },
     "metadata": {},
     "output_type": "display_data"
    },
    {
     "data": {
      "application/vnd.jupyter.widget-view+json": {
       "model_id": "43621804442e464fae030efffd500b1d",
       "version_major": 2,
       "version_minor": 0
      },
      "text/plain": [
       "  0%|          | 0/742 [00:00<?, ?it/s]"
      ]
     },
     "metadata": {},
     "output_type": "display_data"
    },
    {
     "name": "stderr",
     "output_type": "stream",
     "text": [
      "/Users/grantwilson/opt/anaconda3/lib/python3.9/site-packages/sklearn/neural_network/_multilayer_perceptron.py:549: ConvergenceWarning: lbfgs failed to converge (status=1):\n",
      "STOP: TOTAL NO. of ITERATIONS REACHED LIMIT.\n",
      "\n",
      "Increase the number of iterations (max_iter) or scale the data as shown in:\n",
      "    https://scikit-learn.org/stable/modules/preprocessing.html\n",
      "  self.n_iter_ = _check_optimize_result(\"lbfgs\", opt_res, self.max_iter)\n"
     ]
    },
    {
     "name": "stdout",
     "output_type": "stream",
     "text": [
      "Training accuracy: 1.0\n",
      "Testing accuracy: 0.36522911051212936\n",
      "              precision    recall  f1-score   support\n",
      "\n",
      "           1       0.30      0.30      0.30       166\n",
      "          17       0.25      0.29      0.27       107\n",
      "          18       0.24      0.36      0.29       114\n",
      "          27       0.51      0.37      0.43       179\n",
      "          64       0.55      0.47      0.51       176\n",
      "\n",
      "    accuracy                           0.37       742\n",
      "   macro avg       0.37      0.36      0.36       742\n",
      "weighted avg       0.39      0.37      0.37       742\n",
      "\n"
     ]
    }
   ],
   "source": [
    "clf = model_train(images, image_labels)"
   ]
  },
  {
   "cell_type": "code",
   "execution_count": 24,
   "id": "2bbe99a3-d259-4133-9787-99428098878a",
   "metadata": {},
   "outputs": [
    {
     "data": {
      "application/vnd.jupyter.widget-view+json": {
       "model_id": "35e61221d78942cca2505d564661e390",
       "version_major": 2,
       "version_minor": 0
      },
      "text/plain": [
       "  0%|          | 0/2224 [00:00<?, ?it/s]"
      ]
     },
     "metadata": {},
     "output_type": "display_data"
    },
    {
     "data": {
      "application/vnd.jupyter.widget-view+json": {
       "model_id": "43ad8b2d254f4119b580cba4bf1094af",
       "version_major": 2,
       "version_minor": 0
      },
      "text/plain": [
       "  0%|          | 0/742 [00:00<?, ?it/s]"
      ]
     },
     "metadata": {},
     "output_type": "display_data"
    },
    {
     "name": "stdout",
     "output_type": "stream",
     "text": [
      "Fitting Canny Model\n"
     ]
    },
    {
     "name": "stderr",
     "output_type": "stream",
     "text": [
      "/Users/grantwilson/opt/anaconda3/lib/python3.9/site-packages/sklearn/neural_network/_multilayer_perceptron.py:549: ConvergenceWarning: lbfgs failed to converge (status=1):\n",
      "STOP: TOTAL NO. of ITERATIONS REACHED LIMIT.\n",
      "\n",
      "Increase the number of iterations (max_iter) or scale the data as shown in:\n",
      "    https://scikit-learn.org/stable/modules/preprocessing.html\n",
      "  self.n_iter_ = _check_optimize_result(\"lbfgs\", opt_res, self.max_iter)\n"
     ]
    },
    {
     "name": "stdout",
     "output_type": "stream",
     "text": [
      "Fitting HOG Model\n"
     ]
    },
    {
     "name": "stderr",
     "output_type": "stream",
     "text": [
      "/Users/grantwilson/opt/anaconda3/lib/python3.9/site-packages/sklearn/neural_network/_multilayer_perceptron.py:549: ConvergenceWarning: lbfgs failed to converge (status=1):\n",
      "STOP: TOTAL NO. of ITERATIONS REACHED LIMIT.\n",
      "\n",
      "Increase the number of iterations (max_iter) or scale the data as shown in:\n",
      "    https://scikit-learn.org/stable/modules/preprocessing.html\n",
      "  self.n_iter_ = _check_optimize_result(\"lbfgs\", opt_res, self.max_iter)\n"
     ]
    },
    {
     "data": {
      "text/plain": [
       "MLPClassifier(alpha=50, early_stopping=True, hidden_layer_sizes=(256, 128, 5),\n",
       "              max_iter=500, random_state=1, solver='lbfgs')"
      ]
     },
     "execution_count": 24,
     "metadata": {},
     "output_type": "execute_result"
    }
   ],
   "source": [
    "canny_feats = np.zeros(images.shape)\n",
    "for im in range(0,images.shape[0]):\n",
    "    edges = cv2.Canny(np.uint8(images[im]*255),100,200)\n",
    "    canny_feats[im,:,:] = edges\n",
    "\n",
    "train_features, test_features, train_labels, test_labels = train_test_split(canny_feats, image_labels)\n",
    "\n",
    "train_hog_features = extract_HOG_features(train_features)\n",
    "test_hog_features = extract_HOG_features(test_features)\n",
    "\n",
    "train_features = np.array([i.flatten() for i in train_features])\n",
    "test_features = np.array([i.flatten() for i in test_features])\n",
    "\n",
    "print(\"Fitting Canny Model\")\n",
    "clf_canny = MLPClassifier(solver='lbfgs', \n",
    "                activation='relu', \n",
    "                alpha=50, \n",
    "                hidden_layer_sizes=(256, 128, 5), \n",
    "                random_state=1, \n",
    "                max_iter=500,\n",
    "                early_stopping=True,\n",
    "                verbose=False)\n",
    "\n",
    "clf_canny.fit(train_features, train_labels)\n",
    "\n",
    "print(\"Fitting HOG Model\")\n",
    "clf_hog = MLPClassifier(solver='lbfgs', \n",
    "                activation='relu', \n",
    "                alpha=50, \n",
    "                hidden_layer_sizes=(256, 128, 5), \n",
    "                random_state=1, \n",
    "                max_iter=500,\n",
    "                early_stopping=True,\n",
    "                verbose=False)\n",
    "\n",
    "clf_hog.fit(train_hog_features, train_labels)"
   ]
  },
  {
   "cell_type": "code",
   "execution_count": 51,
   "id": "09b2a908-6595-4a0e-bffe-034625b09436",
   "metadata": {},
   "outputs": [],
   "source": [
    "pred_c = clf_canny.predict_proba(train_features)\n",
    "pred_h = clf_hog.predict_proba(train_hog_features)\n",
    "pred = (pred_c + pred_h)/2\n",
    "train_pred_class = unique_classes[[np.argmax(i) for i in pred]]\n",
    "train_accuracy = np.mean(train_pred_class == train_labels)\n",
    "\n",
    "pred_c = clf_canny.predict_proba(test_features)\n",
    "pred_h = clf_hog.predict_proba(test_hog_features)\n",
    "pred = (pred_c + pred_h)/2\n",
    "test_pred_class = unique_classes[[np.argmax(i) for i in pred]]\n",
    "test_accuracy = np.mean(test_pred_class == test_labels)"
   ]
  },
  {
   "cell_type": "code",
   "execution_count": 52,
   "id": "3a39ef10-82ff-43e4-8f34-6d288044dc88",
   "metadata": {},
   "outputs": [
    {
     "name": "stdout",
     "output_type": "stream",
     "text": [
      "Training accuracy: 0.9613309352517986\n",
      "Testing accuracy: 0.29514824797843664\n",
      "              precision    recall  f1-score   support\n",
      "\n",
      "           1       0.29      0.26      0.27       164\n",
      "          17       0.24      0.19      0.21        95\n",
      "          18       0.24      0.12      0.16       114\n",
      "          27       0.29      0.47      0.35       187\n",
      "          64       0.37      0.32      0.34       182\n",
      "\n",
      "    accuracy                           0.30       742\n",
      "   macro avg       0.28      0.27      0.27       742\n",
      "weighted avg       0.29      0.30      0.28       742\n",
      "\n"
     ]
    }
   ],
   "source": [
    "print(\"Training accuracy: {}\".format(train_accuracy))\n",
    "print(\"Testing accuracy: {}\".format(test_accuracy))\n",
    "print(classification_report(test_labels, test_pred_class))"
   ]
  }
 ],
 "metadata": {
  "kernelspec": {
   "display_name": "Python 3 (ipykernel)",
   "language": "python",
   "name": "python3"
  },
  "language_info": {
   "codemirror_mode": {
    "name": "ipython",
    "version": 3
   },
   "file_extension": ".py",
   "mimetype": "text/x-python",
   "name": "python",
   "nbconvert_exporter": "python",
   "pygments_lexer": "ipython3",
   "version": "3.9.12"
  }
 },
 "nbformat": 4,
 "nbformat_minor": 5
}
