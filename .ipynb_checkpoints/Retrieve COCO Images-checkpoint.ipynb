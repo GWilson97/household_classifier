{
 "cells": [
  {
   "cell_type": "code",
   "execution_count": 8,
   "metadata": {
    "tags": []
   },
   "outputs": [],
   "source": [
    "%matplotlib inline\n",
    "from pycocotools.coco import COCO\n",
    "import numpy as np\n",
    "import pandas as pd\n",
    "import skimage.io as io\n",
    "import matplotlib.pyplot as plt\n",
    "import pylab\n",
    "\n",
    "import cv2\n",
    "import skimage\n",
    "\n",
    "pylab.rcParams['figure.figsize'] = (8.0, 10.0)"
   ]
  },
  {
   "cell_type": "code",
   "execution_count": 9,
   "metadata": {
    "tags": []
   },
   "outputs": [],
   "source": [
    "dataDir='/Users/grantwilson/datasets/coco/'\n",
    "dataType='val2017'\n",
    "annFile='{}/annotations/instances_{}.json'.format(dataDir,dataType)"
   ]
  },
  {
   "cell_type": "code",
   "execution_count": 10,
   "metadata": {},
   "outputs": [
    {
     "name": "stdout",
     "output_type": "stream",
     "text": [
      "loading annotations into memory...\n",
      "Done (t=0.43s)\n",
      "creating index...\n",
      "index created!\n"
     ]
    }
   ],
   "source": [
    "# initialize COCO api for instance annotations\n",
    "coco=COCO(annFile)"
   ]
  },
  {
   "cell_type": "code",
   "execution_count": 11,
   "metadata": {
    "scrolled": true
   },
   "outputs": [
    {
     "name": "stdout",
     "output_type": "stream",
     "text": [
      "COCO categories: \n",
      "person bicycle car motorcycle airplane bus train truck boat traffic light fire hydrant stop sign parking meter bench bird cat dog horse sheep cow elephant bear zebra giraffe backpack umbrella handbag tie suitcase frisbee skis snowboard sports ball kite baseball bat baseball glove skateboard surfboard tennis racket bottle wine glass cup fork knife spoon bowl banana apple sandwich orange broccoli carrot hot dog pizza donut cake chair couch potted plant bed dining table toilet tv laptop mouse remote keyboard cell phone microwave oven toaster sink refrigerator book clock vase scissors teddy bear hair drier toothbrush\n",
      "\n",
      "COCO supercategories: \n",
      "accessory outdoor indoor animal sports vehicle food electronic kitchen person appliance furniture\n"
     ]
    }
   ],
   "source": [
    "# display COCO categories and supercategories\n",
    "cats = coco.loadCats(coco.getCatIds())\n",
    "nms=[cat['name'] for cat in cats]\n",
    "print('COCO categories: \\n{}\\n'.format(' '.join(nms)))\n",
    "\n",
    "nms = set([cat['supercategory'] for cat in cats])\n",
    "print('COCO supercategories: \\n{}'.format(' '.join(nms)))"
   ]
  },
  {
   "cell_type": "code",
   "execution_count": 12,
   "metadata": {
    "tags": []
   },
   "outputs": [
    {
     "name": "stdout",
     "output_type": "stream",
     "text": [
      "person 2693\n",
      "dog 177\n",
      "cat 184\n",
      "backpack 228\n",
      "potted plant 172\n"
     ]
    }
   ],
   "source": [
    "# get all images containing given categories, select one at random\n",
    "ids = set()\n",
    "cat_ids = []\n",
    "for category in ['person','dog','cat', \"backpack\", \"potted plant\"]:\n",
    "    catIds = coco.getCatIds(catNms=category)\n",
    "    cat_ids.append(catIds[0])\n",
    "    imgIds = coco.getImgIds(catIds=catIds )\n",
    "    [ids.add(i) for i in coco.getImgIds(imgIds = imgIds)]\n",
    "    print(f\"{category} {len(imgIds)}\")\n"
   ]
  },
  {
   "cell_type": "code",
   "execution_count": 13,
   "metadata": {},
   "outputs": [],
   "source": [
    "ids = list(ids)"
   ]
  },
  {
   "cell_type": "code",
   "execution_count": 14,
   "metadata": {
    "tags": []
   },
   "outputs": [
    {
     "name": "stdout",
     "output_type": "stream",
     "text": [
      "Iteration: 1\n",
      "Iteration: 21\n",
      "Iteration: 41\n",
      "Iteration: 61\n",
      "Iteration: 81\n",
      "Iteration: 101\n",
      "Iteration: 121\n",
      "Iteration: 141\n",
      "Iteration: 161\n",
      "Iteration: 181\n",
      "Iteration: 201\n",
      "Iteration: 221\n",
      "Iteration: 241\n",
      "Iteration: 261\n",
      "Iteration: 281\n",
      "Iteration: 301\n",
      "Iteration: 321\n",
      "Iteration: 341\n",
      "Iteration: 361\n",
      "Iteration: 381\n",
      "Iteration: 401\n",
      "Iteration: 421\n",
      "Iteration: 441\n",
      "Iteration: 461\n",
      "Iteration: 481\n",
      "Iteration: 501\n",
      "Iteration: 521\n",
      "Iteration: 541\n",
      "Iteration: 561\n",
      "Iteration: 581\n",
      "Iteration: 601\n",
      "Iteration: 621\n",
      "Iteration: 641\n",
      "Iteration: 661\n",
      "Iteration: 681\n",
      "Iteration: 701\n",
      "Iteration: 721\n",
      "Iteration: 741\n",
      "Iteration: 761\n",
      "Iteration: 781\n",
      "Iteration: 801\n",
      "Iteration: 821\n",
      "Iteration: 841\n",
      "Iteration: 861\n",
      "Iteration: 881\n",
      "Iteration: 901\n",
      "Iteration: 921\n",
      "Iteration: 941\n",
      "Iteration: 961\n",
      "Iteration: 981\n",
      "Iteration: 1001\n",
      "Iteration: 1021\n",
      "Iteration: 1041\n",
      "Iteration: 1061\n",
      "Iteration: 1081\n",
      "Iteration: 1101\n",
      "Iteration: 1121\n",
      "Iteration: 1141\n",
      "Iteration: 1161\n",
      "Iteration: 1181\n",
      "Iteration: 1201\n",
      "Iteration: 1221\n",
      "Iteration: 1241\n",
      "Iteration: 1261\n",
      "Iteration: 1281\n",
      "Iteration: 1301\n",
      "Iteration: 1321\n",
      "Iteration: 1341\n",
      "Iteration: 1361\n",
      "Iteration: 1381\n",
      "Iteration: 1401\n",
      "Iteration: 1421\n",
      "Iteration: 1441\n",
      "Iteration: 1461\n",
      "Iteration: 1481\n",
      "Iteration: 1501\n",
      "Iteration: 1521\n",
      "Iteration: 1541\n",
      "Iteration: 1561\n",
      "Iteration: 1581\n",
      "Iteration: 1601\n",
      "Iteration: 1621\n",
      "Iteration: 1641\n",
      "Iteration: 1661\n",
      "Iteration: 1681\n",
      "Iteration: 1701\n",
      "Iteration: 1721\n",
      "Iteration: 1741\n",
      "Iteration: 1761\n",
      "Iteration: 1781\n",
      "Iteration: 1801\n",
      "Iteration: 1821\n",
      "Iteration: 1841\n",
      "Iteration: 1861\n",
      "Iteration: 1881\n",
      "Iteration: 1901\n",
      "Iteration: 1921\n",
      "Iteration: 1941\n",
      "Iteration: 1961\n",
      "Iteration: 1981\n",
      "Iteration: 2001\n",
      "Iteration: 2021\n",
      "Iteration: 2041\n",
      "Iteration: 2061\n",
      "Iteration: 2081\n",
      "Iteration: 2101\n",
      "Iteration: 2121\n",
      "Iteration: 2141\n",
      "Iteration: 2161\n",
      "Iteration: 2181\n",
      "Iteration: 2201\n",
      "Iteration: 2221\n",
      "Iteration: 2241\n",
      "Iteration: 2261\n",
      "Iteration: 2281\n",
      "Iteration: 2301\n",
      "Iteration: 2321\n",
      "Iteration: 2341\n",
      "Iteration: 2361\n",
      "Iteration: 2381\n",
      "Iteration: 2401\n",
      "Iteration: 2421\n",
      "Iteration: 2441\n",
      "Iteration: 2461\n",
      "Iteration: 2481\n",
      "Iteration: 2501\n",
      "Iteration: 2521\n",
      "Iteration: 2541\n",
      "Iteration: 2561\n",
      "Iteration: 2581\n",
      "Iteration: 2601\n",
      "Iteration: 2621\n",
      "Iteration: 2641\n",
      "Iteration: 2661\n",
      "Iteration: 2681\n",
      "Iteration: 2701\n",
      "Iteration: 2721\n",
      "Iteration: 2741\n",
      "Iteration: 2761\n",
      "Iteration: 2781\n",
      "Iteration: 2801\n",
      "Iteration: 2821\n",
      "Iteration: 2841\n",
      "Iteration: 2861\n",
      "Iteration: 2881\n",
      "Iteration: 2901\n",
      "Iteration: 2921\n",
      "Iteration: 2941\n",
      "Iteration: 2961\n",
      "Iteration: 2981\n",
      "Iteration: 3001\n",
      "Iteration: 3021\n",
      "Iteration: 3041\n"
     ]
    }
   ],
   "source": [
    "images = []\n",
    "for i in range(len(ids)):\n",
    "    img = coco.loadImgs(ids[i])[0]\n",
    "    I = io.imread(img['coco_url'], as_gray=True)\n",
    "    annIds = coco.getAnnIds(imgIds=img['id'], catIds=cat_ids, iscrowd=None)\n",
    "    anns = coco.loadAnns(annIds)\n",
    "    \n",
    "    for j in range(len(anns)):\n",
    "        if not anns[j][\"iscrowd\"]:\n",
    "            a, b, c, d = [int(k) for k in anns[j][\"bbox\"]]\n",
    "            new_im = I[b:b+d, a:a+c]\n",
    "\n",
    "    \n",
    "            resized_im = cv2.resize(new_im, dsize=(128, 128), interpolation=cv2.INTER_CUBIC)\n",
    "            im_cat = (anns[j][\"category_id\"], resized_im)\n",
    "            images.append(im_cat)\n",
    "    \n",
    "    if i % 20 == 1:\n",
    "        print(f\"Iteration: {i}\")\n"
   ]
  },
  {
   "cell_type": "code",
   "execution_count": 43,
   "metadata": {},
   "outputs": [],
   "source": [
    "image_category = np.array([i[0] for i in images])\n",
    "image = np.array([i[1] for i in images])"
   ]
  },
  {
   "cell_type": "code",
   "execution_count": 45,
   "metadata": {},
   "outputs": [],
   "source": [
    "im_hog = []\n",
    "for i in range(0, image.shape[0]):\n",
    "    im_hog.append(skimage.feature.hog(image[i], visualize=True)[1])"
   ]
  },
  {
   "cell_type": "code",
   "execution_count": 46,
   "metadata": {},
   "outputs": [],
   "source": [
    "np.save(\"hog.npy\", im_hog)\n",
    "np.save(\"image.npy\", image)\n",
    "np.save(\"image_category.npy\", image_category)"
   ]
  },
  {
   "cell_type": "code",
   "execution_count": 49,
   "metadata": {},
   "outputs": [],
   "source": [
    "np.savez(\"data\", image_category, image, im_hog)"
   ]
  },
  {
   "cell_type": "code",
   "execution_count": 48,
   "metadata": {},
   "outputs": [
    {
     "data": {
      "text/plain": [
       "(11910, 128, 128)"
      ]
     },
     "execution_count": 48,
     "metadata": {},
     "output_type": "execute_result"
    }
   ],
   "source": [
    "np.load(\"image.npy\").shape"
   ]
  },
  {
   "cell_type": "code",
   "execution_count": null,
   "metadata": {},
   "outputs": [],
   "source": [
    "df = pd.DataFrame(images, columns=[\"Category\", \"image\"])"
   ]
  },
  {
   "cell_type": "code",
   "execution_count": null,
   "metadata": {},
   "outputs": [],
   "source": [
    "df.to_csv(\"preprocessed_images.csv\", index=False)"
   ]
  },
  {
   "cell_type": "code",
   "execution_count": null,
   "metadata": {},
   "outputs": [],
   "source": [
    "df.shape"
   ]
  },
  {
   "cell_type": "code",
   "execution_count": null,
   "metadata": {},
   "outputs": [],
   "source": [
    "df.head()"
   ]
  },
  {
   "cell_type": "code",
   "execution_count": null,
   "metadata": {},
   "outputs": [],
   "source": [
    "img = coco.loadImgs(ids[np.random.randint(0,len(ids))])[0]\n",
    "\n",
    "# load and display image\n",
    "# I = io.imread('%s/images/%s/%s'%(dataDir,dataType,img['file_name']))\n",
    "# use url to load image\n",
    "I = io.imread(img['coco_url'], as_gray=True)\n",
    "plt.axis('off')\n",
    "plt.imshow(I, cmap=\"gray\")\n",
    "plt.show()"
   ]
  },
  {
   "cell_type": "code",
   "execution_count": null,
   "metadata": {},
   "outputs": [],
   "source": [
    "# load and display instance annotations\n",
    "plt.imshow(I, cmap=\"gray\"); plt.axis('off')\n",
    "annIds = coco.getAnnIds(imgIds=img['id'], catIds=cat_ids, iscrowd=None)\n",
    "anns = coco.loadAnns(annIds)\n",
    "coco.showAnns(anns, draw_bbox=True)"
   ]
  },
  {
   "cell_type": "code",
   "execution_count": null,
   "metadata": {},
   "outputs": [],
   "source": [
    "anns[0].keys()"
   ]
  },
  {
   "cell_type": "code",
   "execution_count": null,
   "metadata": {},
   "outputs": [],
   "source": [
    "anns[6][\"iscrowd\"]"
   ]
  },
  {
   "cell_type": "code",
   "execution_count": null,
   "metadata": {},
   "outputs": [],
   "source": [
    "a, b, c, d = [int(i) for i in anns[0][\"bbox\"]]"
   ]
  },
  {
   "cell_type": "code",
   "execution_count": null,
   "metadata": {},
   "outputs": [],
   "source": [
    "print((a, b, c, d))"
   ]
  },
  {
   "cell_type": "code",
   "execution_count": null,
   "metadata": {},
   "outputs": [],
   "source": [
    "im_collection = []\n",
    "for i in range(len(anns)):\n",
    "    a, b, c, d = [int(j) for j in anns[i][\"bbox\"]]\n",
    "    im_collection.append(I[b:b+d, a:a+c])"
   ]
  },
  {
   "cell_type": "code",
   "execution_count": null,
   "metadata": {},
   "outputs": [],
   "source": [
    "# create multi-row figure\n",
    "plt.figure(figsize=(25, 3))\n",
    "\n",
    "\n",
    "# add images to the figure from the stack\n",
    "for i in range(1, len(im_collection)+1):\n",
    "    plt.subplot(1, len(im_collection), i)\n",
    "\n",
    "    # don't forget to set the cmap, vmin, vmax, and axis off\n",
    "    plt.imshow(im_collection[i-1], cmap=\"gray\")\n",
    "    plt.axis(\"off\")\n",
    "\n",
    "\n",
    "plt.show()"
   ]
  },
  {
   "cell_type": "code",
   "execution_count": null,
   "metadata": {},
   "outputs": [],
   "source": [
    "# create multi-row figure\n",
    "plt.figure(figsize=(25, 3))\n",
    "\n",
    "resized_images = []\n",
    "# add images to the figure from the stack\n",
    "for i in range(1, len(im_collection)+1):\n",
    "    plt.subplot(1, len(im_collection), i)\n",
    "\n",
    "    # don't forget to set the cmap, vmin, vmax, and axis off\n",
    "    resized_im = cv2.resize(im_collection[i-1], dsize=(128, 128), interpolation=cv2.INTER_CUBIC)\n",
    "    resized_images.append(resized_im)\n",
    "    plt.imshow(resized_im, cmap=\"gray\")\n",
    "    plt.axis(\"off\")\n",
    "    \n",
    "    plt.title(f\"Person {i-1}\")\n",
    "\n",
    "\n",
    "plt.show()\n",
    "\n"
   ]
  },
  {
   "cell_type": "code",
   "execution_count": null,
   "metadata": {},
   "outputs": [],
   "source": [
    "PERSON_SELECTOR = 0"
   ]
  },
  {
   "cell_type": "code",
   "execution_count": null,
   "metadata": {},
   "outputs": [],
   "source": [
    "a = np.float32(resized_images[PERSON_SELECTOR])\n",
    "\n",
    "gx = cv2.Sobel(a, cv2.CV_32F, 1, 0, ksize=1)\n",
    "gy = cv2.Sobel(a, cv2.CV_32F, 0, 1, ksize=1)"
   ]
  },
  {
   "cell_type": "code",
   "execution_count": null,
   "metadata": {},
   "outputs": [],
   "source": [
    "mag, angle = cv2.cartToPolar(gx, gy, angleInDegrees=True)\n",
    "angle = angle%180"
   ]
  },
  {
   "cell_type": "code",
   "execution_count": null,
   "metadata": {},
   "outputs": [],
   "source": [
    "plt.imshow(angle, cmap=\"gray\")"
   ]
  },
  {
   "cell_type": "code",
   "execution_count": null,
   "metadata": {},
   "outputs": [],
   "source": [
    "plt.imshow(mag, cmap=\"gray\")"
   ]
  },
  {
   "cell_type": "code",
   "execution_count": null,
   "metadata": {},
   "outputs": [],
   "source": [
    "# initialize COCO api for person keypoints annotations\n",
    "annFile = '{}/annotations/person_keypoints_{}.json'.format(dataDir,dataType)\n",
    "coco_kps=COCO(annFile)"
   ]
  },
  {
   "cell_type": "code",
   "execution_count": null,
   "metadata": {},
   "outputs": [],
   "source": [
    "# load and display keypoints annotations\n",
    "plt.imshow(I, cmap=\"gray\"); plt.axis('off')\n",
    "ax = plt.gca()\n",
    "annIds = coco_kps.getAnnIds(imgIds=img['id'], catIds=cat_ids, iscrowd=None)\n",
    "anns = coco_kps.loadAnns(annIds)\n",
    "coco_kps.showAnns(anns)"
   ]
  },
  {
   "cell_type": "code",
   "execution_count": null,
   "metadata": {},
   "outputs": [],
   "source": [
    "# initialize COCO api for caption annotations\n",
    "annFile = '{}/annotations/captions_{}.json'.format(dataDir,dataType)\n",
    "coco_caps=COCO(annFile)"
   ]
  },
  {
   "cell_type": "code",
   "execution_count": null,
   "metadata": {},
   "outputs": [],
   "source": [
    "# load and display caption annotations\n",
    "annIds = coco_caps.getAnnIds(imgIds=img['id']);\n",
    "anns = coco_caps.loadAnns(annIds)\n",
    "coco_caps.showAnns(anns)\n",
    "plt.imshow(I, cmap=\"gray\"); plt.axis('off'); plt.show()"
   ]
  }
 ],
 "metadata": {
  "kernelspec": {
   "display_name": "Python 3 (ipykernel)",
   "language": "python",
   "name": "python3"
  },
  "language_info": {
   "codemirror_mode": {
    "name": "ipython",
    "version": 3
   },
   "file_extension": ".py",
   "mimetype": "text/x-python",
   "name": "python",
   "nbconvert_exporter": "python",
   "pygments_lexer": "ipython3",
   "version": "3.9.12"
  }
 },
 "nbformat": 4,
 "nbformat_minor": 4
}
