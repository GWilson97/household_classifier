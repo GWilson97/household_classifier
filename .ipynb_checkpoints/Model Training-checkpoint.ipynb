{
 "cells": [
  {
   "cell_type": "code",
   "execution_count": 16,
   "id": "5caaeeb7-3c29-4edc-81ed-2b211f8c17e4",
   "metadata": {},
   "outputs": [],
   "source": [
    "%matplotlib inline\n",
    "from pycocotools.coco import COCO\n",
    "import numpy as np\n",
    "import pandas as pd\n",
    "import skimage.io as io\n",
    "import matplotlib.pyplot as plt\n",
    "import pylab\n",
    "\n",
    "import cv2\n",
    "import skimage\n",
    "from skimage.feature import hog\n",
    "\n",
    "from sklearn.model_selection import train_test_split\n",
    "\n",
    "import os\n",
    "import gzip\n",
    "import pickle\n",
    "from tqdm.auto import tqdm\n",
    "from ast import literal_eval\n",
    "from sklearn.neural_network import MLPClassifier\n",
    "\n",
    "\n",
    "\n",
    "pylab.rcParams['figure.figsize'] = (8.0, 10.0)"
   ]
  },
  {
   "cell_type": "code",
   "execution_count": 17,
   "id": "8042ec7a-7d0b-45fc-b24b-b6d1957070e9",
   "metadata": {},
   "outputs": [],
   "source": [
    "images = np.load(\"image.npy\")\n",
    "image_labels = np.load(\"image_category.npy\")"
   ]
  },
  {
   "cell_type": "code",
   "execution_count": 18,
   "id": "29f68ec6-0891-4f65-bcbc-baf546114f98",
   "metadata": {},
   "outputs": [
    {
     "data": {
      "text/plain": [
       "array([ 1, 17, 18, 27, 64])"
      ]
     },
     "execution_count": 18,
     "metadata": {},
     "output_type": "execute_result"
    }
   ],
   "source": [
    "np.unique(image_labels)"
   ]
  },
  {
   "cell_type": "code",
   "execution_count": 19,
   "id": "aacaabf1-723c-401a-b1d2-d0844ca1deec",
   "metadata": {},
   "outputs": [],
   "source": [
    "def extract_HOG_features(data):\n",
    "    num_samples = data.shape[0]\n",
    "    hog_features = []\n",
    "    for i in tqdm(range(num_samples)):\n",
    "        img = data[i]\n",
    "        feature = hog(img, orientations=9, pixels_per_cell=(4, 4), cells_per_block=(3, 3))\n",
    "        hog_features.append(feature)\n",
    "        if i %20 == 0:\n",
    "            print()\n",
    "    return np.array(hog_features)"
   ]
  },
  {
   "cell_type": "code",
   "execution_count": 20,
   "id": "bdeaf67a-b0e4-456c-8480-d6b219f1ab3c",
   "metadata": {},
   "outputs": [
    {
     "data": {
      "text/plain": [
       "array([[0.56171918, 0.55833954, 0.55830842, ..., 0.65200786, 0.65119087,\n",
       "        0.65496852],\n",
       "       [0.55409445, 0.55731026, 0.55812929, ..., 0.64916878, 0.64994478,\n",
       "        0.65564197],\n",
       "       [0.55720017, 0.54967472, 0.554354  , ..., 0.64869231, 0.64866833,\n",
       "        0.65279026],\n",
       "       ...,\n",
       "       [0.25084662, 0.23687481, 0.22582936, ..., 0.10068557, 0.14151743,\n",
       "        0.15914492],\n",
       "       [0.24338198, 0.24431225, 0.23506392, ..., 0.09660949, 0.11815671,\n",
       "        0.11430642],\n",
       "       [0.23657955, 0.23595347, 0.23316385, ..., 0.07665328, 0.05550884,\n",
       "        0.05661618]])"
      ]
     },
     "execution_count": 20,
     "metadata": {},
     "output_type": "execute_result"
    }
   ],
   "source": [
    "images[0]"
   ]
  },
  {
   "cell_type": "code",
   "execution_count": 21,
   "id": "3ecfc9ad-bd9c-45b9-bba8-985b6081fc5c",
   "metadata": {},
   "outputs": [],
   "source": [
    "test_data = images[int(images.shape[0] * .75):]\n",
    "train_data = images[:int(images.shape[0] * .75)]"
   ]
  },
  {
   "cell_type": "code",
   "execution_count": 22,
   "id": "5d7e8c99-ecda-4b86-af88-6452493d3cd1",
   "metadata": {
    "collapsed": true,
    "jupyter": {
     "outputs_hidden": true
    },
    "tags": []
   },
   "outputs": [
    {
     "data": {
      "application/vnd.jupyter.widget-view+json": {
       "model_id": "69a2b0fc5f884a179e0f3fa7fb058a9e",
       "version_major": 2,
       "version_minor": 0
      },
      "text/plain": [
       "  0%|          | 0/2224 [00:00<?, ?it/s]"
      ]
     },
     "metadata": {},
     "output_type": "display_data"
    },
    {
     "name": "stdout",
     "output_type": "stream",
     "text": [
      "\n",
      "\n",
      "\n",
      "\n",
      "\n",
      "\n",
      "\n",
      "\n",
      "\n",
      "\n",
      "\n",
      "\n",
      "\n",
      "\n",
      "\n",
      "\n",
      "\n",
      "\n",
      "\n",
      "\n",
      "\n",
      "\n",
      "\n",
      "\n",
      "\n",
      "\n",
      "\n",
      "\n",
      "\n",
      "\n",
      "\n",
      "\n",
      "\n",
      "\n",
      "\n",
      "\n",
      "\n",
      "\n",
      "\n",
      "\n",
      "\n",
      "\n",
      "\n",
      "\n",
      "\n",
      "\n",
      "\n",
      "\n",
      "\n",
      "\n",
      "\n",
      "\n",
      "\n",
      "\n",
      "\n",
      "\n",
      "\n",
      "\n",
      "\n",
      "\n",
      "\n",
      "\n",
      "\n",
      "\n",
      "\n",
      "\n",
      "\n",
      "\n",
      "\n",
      "\n",
      "\n",
      "\n",
      "\n",
      "\n",
      "\n",
      "\n",
      "\n",
      "\n",
      "\n",
      "\n",
      "\n",
      "\n",
      "\n",
      "\n",
      "\n",
      "\n",
      "\n",
      "\n",
      "\n",
      "\n",
      "\n",
      "\n",
      "\n",
      "\n",
      "\n",
      "\n",
      "\n",
      "\n",
      "\n",
      "\n",
      "\n",
      "\n",
      "\n",
      "\n",
      "\n",
      "\n",
      "\n",
      "\n",
      "\n",
      "\n",
      "\n",
      "\n"
     ]
    },
    {
     "data": {
      "application/vnd.jupyter.widget-view+json": {
       "model_id": "dbd8d344e1ee4213a2a0ffbf85e48591",
       "version_major": 2,
       "version_minor": 0
      },
      "text/plain": [
       "  0%|          | 0/742 [00:00<?, ?it/s]"
      ]
     },
     "metadata": {},
     "output_type": "display_data"
    },
    {
     "name": "stdout",
     "output_type": "stream",
     "text": [
      "\n",
      "\n",
      "\n",
      "\n",
      "\n",
      "\n",
      "\n",
      "\n",
      "\n",
      "\n",
      "\n",
      "\n",
      "\n",
      "\n",
      "\n",
      "\n",
      "\n",
      "\n",
      "\n",
      "\n",
      "\n",
      "\n",
      "\n",
      "\n",
      "\n",
      "\n",
      "\n",
      "\n",
      "\n",
      "\n",
      "\n",
      "\n",
      "\n",
      "\n",
      "\n",
      "\n",
      "\n",
      "\n"
     ]
    }
   ],
   "source": [
    "train_features = extract_HOG_features(train_data)\n",
    "test_features = extract_HOG_features(test_data)"
   ]
  },
  {
   "cell_type": "code",
   "execution_count": 23,
   "id": "92bef787-861e-49df-9345-0ec2d7b9cea9",
   "metadata": {},
   "outputs": [],
   "source": [
    "test_labels = image_labels[int(image_labels.shape[0] * .75):]\n",
    "train_labels = image_labels[:int(image_labels.shape[0] * .75)]"
   ]
  },
  {
   "cell_type": "code",
   "execution_count": 28,
   "id": "06cdf6b8-ab9f-4133-8e88-b2dcccf59e76",
   "metadata": {},
   "outputs": [],
   "source": [
    "clf = MLPClassifier(solver='adam', \n",
    "                    activation='relu', \n",
    "                    alpha=.001, \n",
    "                    hidden_layer_sizes=(512, 128, 5), \n",
    "                    random_state=1, \n",
    "                    max_iter=100,\n",
    "                    verbose=True)"
   ]
  },
  {
   "cell_type": "code",
   "execution_count": null,
   "id": "b038b507-acce-43e2-b31e-b787c20a7f3a",
   "metadata": {},
   "outputs": [
    {
     "name": "stdout",
     "output_type": "stream",
     "text": [
      "Iteration 1, loss = 2.92730284\n",
      "Iteration 2, loss = 1.76605466\n",
      "Iteration 3, loss = 1.77637669\n",
      "Iteration 4, loss = 1.75328946\n",
      "Iteration 5, loss = 1.75342957\n",
      "Iteration 6, loss = 1.74929824\n",
      "Iteration 7, loss = 1.74469948\n",
      "Iteration 8, loss = 1.74021931\n",
      "Iteration 9, loss = 1.73580580\n",
      "Iteration 10, loss = 1.73131054\n"
     ]
    }
   ],
   "source": [
    "clf.fit(train_features, train_labels)"
   ]
  },
  {
   "cell_type": "code",
   "execution_count": null,
   "id": "7f409c01-2d9c-490b-a051-0de0bd4b53d0",
   "metadata": {},
   "outputs": [],
   "source": [
    "pred = clf.predict(train_features)\n",
    "train_accuracy = np.mean(pred == train_labels)\n",
    "\n",
    "pred = clf.predict(test_features)\n",
    "proba = clf.predict_proba(test_features)\n",
    "test_accuracy = np.mean(pred == test_labels)"
   ]
  },
  {
   "cell_type": "code",
   "execution_count": null,
   "id": "e7104613-9b02-4217-8245-a0bb2b9b3340",
   "metadata": {},
   "outputs": [],
   "source": [
    "print(\"Training accuracy: {}\".format(train_accuracy))\n",
    "print(\"Testing accuracy: {}\".format(test_accuracy))"
   ]
  }
 ],
 "metadata": {
  "kernelspec": {
   "display_name": "Python 3 (ipykernel)",
   "language": "python",
   "name": "python3"
  },
  "language_info": {
   "codemirror_mode": {
    "name": "ipython",
    "version": 3
   },
   "file_extension": ".py",
   "mimetype": "text/x-python",
   "name": "python",
   "nbconvert_exporter": "python",
   "pygments_lexer": "ipython3",
   "version": "3.9.12"
  }
 },
 "nbformat": 4,
 "nbformat_minor": 5
}
