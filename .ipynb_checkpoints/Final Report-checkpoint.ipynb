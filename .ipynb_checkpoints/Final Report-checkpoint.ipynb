{
 "cells": [
  {
   "cell_type": "markdown",
   "id": "1b4cc5de-b244-44cf-922b-bafdf34324d0",
   "metadata": {},
   "source": [
    "# Household Object Image Classification: Computer Vision for Home Applications"
   ]
  },
  {
   "cell_type": "code",
   "execution_count": null,
   "id": "b92a5b6c-97d9-4a58-98c8-fbc17f9166cb",
   "metadata": {},
   "outputs": [],
   "source": []
  }
 ],
 "metadata": {
  "kernelspec": {
   "display_name": "Python 3 (ipykernel)",
   "language": "python",
   "name": "python3"
  },
  "language_info": {
   "codemirror_mode": {
    "name": "ipython",
    "version": 3
   },
   "file_extension": ".py",
   "mimetype": "text/x-python",
   "name": "python",
   "nbconvert_exporter": "python",
   "pygments_lexer": "ipython3",
   "version": "3.9.12"
  }
 },
 "nbformat": 4,
 "nbformat_minor": 5
}
